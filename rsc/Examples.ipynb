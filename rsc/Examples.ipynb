{
 "cells": [
  {
   "cell_type": "markdown",
   "id": "b120b9ef",
   "metadata": {},
   "source": [
    "# Function notebook\n",
    "\n",
    "I promise it's coming just 2 more days "
   ]
  }
 ],
 "metadata": {
  "language_info": {
   "name": "python"
  }
 },
 "nbformat": 4,
 "nbformat_minor": 5
}
