{
 "cells": [
  {
   "cell_type": "markdown",
   "id": "b120b9ef",
   "metadata": {},
   "source": [
    "# Function runthrough notebook"
   ]
  },
  {
   "cell_type": "markdown",
   "id": "fa00fca1",
   "metadata": {},
   "source": [
    "Firstly, we must initialise our billiards boundary data using a _info function. This module comes preloaded with cardioid_info, circle_info, rectangle_info, square_info, and stadium_info. "
   ]
  },
  {
   "cell_type": "code",
   "execution_count": 1,
   "id": "7a8257f1",
   "metadata": {},
   "outputs": [
    {
     "ename": "ArgumentError",
     "evalue": "ArgumentError: Package QuantumBilliards not found in current path.\n- Run `import Pkg; Pkg.add(\"QuantumBilliards\")` to install the QuantumBilliards package.",
     "output_type": "error",
     "traceback": [
      "ArgumentError: Package QuantumBilliards not found in current path.\n",
      "- Run `import Pkg; Pkg.add(\"QuantumBilliards\")` to install the QuantumBilliards package.\n",
      "\n",
      "Stacktrace:\n",
      "  [1] macro expansion\n",
      "    @ ./loading.jl:2296 [inlined]\n",
      "  [2] macro expansion\n",
      "    @ ./lock.jl:273 [inlined]\n",
      "  [3] __require(into::Module, mod::Symbol)\n",
      "    @ Base ./loading.jl:2271\n",
      "  [4] #invoke_in_world#3\n",
      "    @ ./essentials.jl:1089 [inlined]\n",
      "  [5] invoke_in_world\n",
      "    @ ./essentials.jl:1086 [inlined]\n",
      "  [6] require(into::Module, mod::Symbol)\n",
      "    @ Base ./loading.jl:2260\n",
      "  [7] eval\n",
      "    @ ./boot.jl:430 [inlined]\n",
      "  [8] include_string(mapexpr::typeof(REPL.softscope), mod::Module, code::String, filename::String)\n",
      "    @ Base ./loading.jl:2734\n",
      "  [9] #invokelatest#2\n",
      "    @ ./essentials.jl:1055 [inlined]\n",
      " [10] invokelatest\n",
      "    @ ./essentials.jl:1052 [inlined]\n",
      " [11] (::VSCodeServer.var\"#217#218\"{VSCodeServer.NotebookRunCellArguments, String})()\n",
      "    @ VSCodeServer ~/.vscode/extensions/julialang.language-julia-1.149.2/scripts/packages/VSCodeServer/src/serve_notebook.jl:24\n",
      " [12] withpath(f::VSCodeServer.var\"#217#218\"{VSCodeServer.NotebookRunCellArguments, String}, path::String)\n",
      "    @ VSCodeServer ~/.vscode/extensions/julialang.language-julia-1.149.2/scripts/packages/VSCodeServer/src/repl.jl:276\n",
      " [13] notebook_runcell_request(conn::VSCodeServer.JSONRPC.JSONRPCEndpoint{Base.PipeEndpoint, Base.PipeEndpoint, VSCodeServer.JSON.Serializations.StandardSerialization}, params::VSCodeServer.NotebookRunCellArguments, token::VSCodeServer.CancellationTokens.CancellationToken)\n",
      "    @ VSCodeServer ~/.vscode/extensions/julialang.language-julia-1.149.2/scripts/packages/VSCodeServer/src/serve_notebook.jl:13\n",
      " [14] dispatch_msg(x::VSCodeServer.JSONRPC.JSONRPCEndpoint{Base.PipeEndpoint, Base.PipeEndpoint, VSCodeServer.JSON.Serializations.StandardSerialization}, dispatcher::VSCodeServer.JSONRPC.MsgDispatcher, msg::VSCodeServer.JSONRPC.Request)\n",
      "    @ VSCodeServer.JSONRPC ~/.vscode/extensions/julialang.language-julia-1.149.2/scripts/packages/JSONRPC/src/typed.jl:68\n",
      " [15] serve_notebook(pipename::String, debugger_pipename::String, outputchannel_logger::Base.CoreLogging.SimpleLogger; error_handler::var\"#5#10\"{String})\n",
      "    @ VSCodeServer ~/.vscode/extensions/julialang.language-julia-1.149.2/scripts/packages/VSCodeServer/src/serve_notebook.jl:147\n",
      " [16] top-level scope\n",
      "    @ ~/.vscode/extensions/julialang.language-julia-1.149.2/scripts/notebook/notebook.jl:35"
     ]
    }
   ],
   "source": [
    "using QuantumBilliards\n",
    "\n",
    "N = 900 # initialise the number of nodes along the billiard boundary \n",
    "\n",
    "# all _info function can simply take in N, but can also take dimension information \n",
    "xs, ns, w, geom_data = QuantumBilliards.cardioid_info(N) # here the cardioid is chosen as an example"
   ]
  },
  {
   "cell_type": "markdown",
   "id": "bc935805",
   "metadata": {},
   "source": [
    "Here, \"xs\" and \"ns\" are arrays (length N) of vectors (length 2) which define the boundary points and their normals. \"w\" is an array (length N) of weights associated to each of the nodes defined in \"xs\" (both currently uniform, with more advanced quadrature schemes to be added). \"geom_data\" is a tuple defining first the area and then the perimeter of the billiard (for Weyl counting function prediction and unfolding process). To easily sanity check any billiards you may want to add, you may want to run the following function to produce a graph of the joint billiards and their associated normals (must obviously follow the respective structures defined above)."
   ]
  },
  {
   "cell_type": "code",
   "execution_count": 2,
   "id": "bd3b6c16",
   "metadata": {},
   "outputs": [
    {
     "ename": "UndefVarError",
     "evalue": "UndefVarError: `QuantumBilliards` not defined in `Main`\nSuggestion: check for spelling errors or missing imports.",
     "output_type": "error",
     "traceback": [
      "UndefVarError: `QuantumBilliards` not defined in `Main`\n",
      "Suggestion: check for spelling errors or missing imports.\n",
      "\n",
      "Stacktrace:\n",
      " [1] top-level scope\n",
      "   @ ~/Quantum-Billiards-BEM/rsc/jl_notebook_cell_df34fa98e69747e1a8f8a730347b8e2f_W5sZmlsZQ==.jl:1"
     ]
    }
   ],
   "source": [
    "QuantumBilliards.plot_boundary(xs, ns, w)"
   ]
  },
  {
   "cell_type": "markdown",
   "id": "62454162",
   "metadata": {},
   "source": [
    "With our associated boundary data, we can now go about approximating the spectra of billiard systems and then solving them for particular resonances. "
   ]
  },
  {
   "cell_type": "code",
   "execution_count": 3,
   "id": "98205ba1",
   "metadata": {},
   "outputs": [
    {
     "ename": "UndefVarError",
     "evalue": "UndefVarError: `QuantumBilliards` not defined in `Main`\nSuggestion: check for spelling errors or missing imports.",
     "output_type": "error",
     "traceback": [
      "UndefVarError: `QuantumBilliards` not defined in `Main`\n",
      "Suggestion: check for spelling errors or missing imports.\n",
      "\n",
      "Stacktrace:\n",
      " [1] top-level scope\n",
      "   @ ~/Quantum-Billiards-BEM/rsc/jl_notebook_cell_df34fa98e69747e1a8f8a730347b8e2f_X10sZmlsZQ==.jl:2"
     ]
    }
   ],
   "source": [
    "# Detect resonant modes between 1 and 15, evaluating at 2000 interim points (with more points leading to higher to accuracy)\n",
    "spectrum = QuantumBilliards.resonant_modes(1.0, 15.0, 2000, xs, ns, w) # here, 2000 is \n",
    "\n",
    "# Isolate a resonant mode and produce the associated bound state solution on the billiard\n",
    "test_res = spectrum[7] # picking the seventh mode\n",
    "QuantumBilliards.plot_billiard(xs, ns, w, test_res)"
   ]
  },
  {
   "cell_type": "markdown",
   "id": "91809d32",
   "metadata": {},
   "source": [
    "To determine whether our number of boundary nodes (N) and evaluation points is sufficient for detecting the full spectrum in the chosen region, it is often helpful to compare the number of detected resonances to the Weyl prediction for the given billiard. The following function produces a graph comparing the Weyl prediction to the approximated spectrum, with closer correlation being a good indicator of the sufficiency of the chosen parameters. "
   ]
  },
  {
   "cell_type": "code",
   "execution_count": 4,
   "id": "b5f7576f",
   "metadata": {},
   "outputs": [
    {
     "ename": "UndefVarError",
     "evalue": "UndefVarError: `QuantumBilliards` not defined in `Main`\nSuggestion: check for spelling errors or missing imports.",
     "output_type": "error",
     "traceback": [
      "UndefVarError: `QuantumBilliards` not defined in `Main`\n",
      "Suggestion: check for spelling errors or missing imports.\n",
      "\n",
      "Stacktrace:\n",
      " [1] top-level scope\n",
      "   @ ~/Quantum-Billiards-BEM/rsc/jl_notebook_cell_df34fa98e69747e1a8f8a730347b8e2f_X12sZmlsZQ==.jl:1"
     ]
    }
   ],
   "source": [
    "QuantumBilliards.plot_weylcomp(spectrum, geom_data)"
   ]
  },
  {
   "cell_type": "markdown",
   "id": "9d094858",
   "metadata": {},
   "source": [
    "Finally, the spectra of such systems is often used to define ideas of quantum chaos. Discovered by Bohigas, Giannoni, and Schmit, the level spacing (Wigner-Dyson) distributions of the Weyl unfolded spectra of classically regular and chaotic systems follow Poisson and Gaussian Ensemble distributions respectively. The following function unfolds a given spectrum and produces a histogram of the spacing distributions. Note: this behaviour is clearer at higher frequencies, which are harder to approximate using BEM methods"
   ]
  },
  {
   "cell_type": "code",
   "execution_count": 5,
   "id": "5e9eaf19",
   "metadata": {},
   "outputs": [
    {
     "ename": "UndefVarError",
     "evalue": "UndefVarError: `QuantumBilliards` not defined in `Main`\nSuggestion: check for spelling errors or missing imports.",
     "output_type": "error",
     "traceback": [
      "UndefVarError: `QuantumBilliards` not defined in `Main`\n",
      "Suggestion: check for spelling errors or missing imports.\n",
      "\n",
      "Stacktrace:\n",
      " [1] top-level scope\n",
      "   @ ~/Quantum-Billiards-BEM/rsc/jl_notebook_cell_df34fa98e69747e1a8f8a730347b8e2f_X14sZmlsZQ==.jl:1"
     ]
    }
   ],
   "source": [
    "QuantumBilliards.plot_unfolded_spacings(spectrum, geom_data)"
   ]
  }
 ],
 "metadata": {
  "kernelspec": {
   "display_name": "Julia 1.11.3",
   "language": "julia",
   "name": "julia-1.11"
  },
  "language_info": {
   "file_extension": ".jl",
   "mimetype": "application/julia",
   "name": "julia",
   "version": "1.11.3"
  }
 },
 "nbformat": 4,
 "nbformat_minor": 5
}
